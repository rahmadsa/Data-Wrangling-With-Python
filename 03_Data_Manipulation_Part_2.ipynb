{
  "nbformat": 4,
  "nbformat_minor": 0,
  "metadata": {
    "colab": {
      "provenance": []
    },
    "kernelspec": {
      "name": "python3",
      "display_name": "Python 3"
    },
    "language_info": {
      "name": "python"
    }
  },
  "cells": [
    {
      "cell_type": "code",
      "execution_count": null,
      "metadata": {
        "id": "OaaICLak6dqV"
      },
      "outputs": [],
      "source": []
    },
    {
      "cell_type": "markdown",
      "source": [
        "# **B. Dataset I/O**\n",
        "\n",
        "Pandas menyediakan berbagai method untuk membaca file tersebut hanya dengan dipanggil method itu, code yang lebih simple dan loading yang lebih, tentu saja output nya dapat berupa Series atau Dataframe.\n",
        "\n",
        "Terdapat sangat banyak file yang dapat dibaca/dapat disimpan oleh Pandas, tapi ada beberapa file yang paling umum dan sering digunakan oleh praktisi data seperti berikut ini:\n",
        "\n",
        "* **CSV** (*Comma Separated Values*), antar data dalam satu baris dipisahkan oleh comma, \",\".\n",
        "* **TSV** (*Tab Separated Values*), antar data dalam satu baris dipisahkan oleh \"Tab\".\n",
        "* **Excel**\n",
        "* **Google BigQuery**\n",
        "* **SQL Query**\n",
        "* **JSON** (*Java Script Object Notation*)\n",
        "\n",
        "\n"
      ],
      "metadata": {
        "id": "iKvmGHTI6uOb"
      }
    },
    {
      "cell_type": "markdown",
      "source": [
        "## **1. Read Dataset - CSV dan TSV**\n",
        "**CSV** dan **TSV** pada hakikatnya adalah tipe data text dengan perbedaan terletak pada pemisah antar data dalam satu baris. Pada *file* CSV, antar data dalam satu baris dipisahkan oleh *comma*, \",\". Namun, pada file *TSV* antar data dalam satu baris dipisahkan oleh \"**Tab**\".\n",
        "\n",
        "Fungsi .***read_csv()*** digunakan untuk membaca file yang value-nya dipisahkan oleh comma (*default*), terkadang pemisah value-nya bisa di set ‘\\t’ untuk file tsv (*tab separated values*).\n",
        "\n",
        "**Notes** :\n",
        "\n",
        "**Dataset csv** : https://github.com/rahmadsa/dataset/blob/main/sample_csv.csv\n",
        "\n",
        "**Dataset tsv** : https://github.com/rahmadsa/dataset/blob/main/sample_tsv.tsv\n",
        "\n",
        "**Membaca file CSV**\n",
        "\n",
        "![Kode Membaca file CSV](https://github.com/rahmadsa/Data-Wrangling-With-Python/blob/main/properties/img/2024-03-2205-30-14.png?raw=true)\n",
        "\n",
        "**Membaca file TSV**\n",
        "\n",
        "![Kode Membaca file CSV](https://github.com/rahmadsa/Data-Wrangling-With-Python/blob/main/properties/img/2024-03-22-05-38-40.png?raw=true)\n",
        "\n",
        "\n",
        "\n",
        "\n",
        "\n",
        "**Tugas praktek:**\n",
        "\n",
        "Pada code cell editor dibawah ini dapat dilihat kode-kode yang tidak lengkap. Tugas kamu sekarang adalah mengganti tanda _ _ _ di code editor dengan yang sesuai seperti yang diberikan pada contoh di atas.\n",
        "\n",
        "Tampilkanlah tiga data teratas dari kedua jenis file tersebut"
      ],
      "metadata": {
        "id": "PWV22y7KkNtn"
      }
    },
    {
      "cell_type": "code",
      "source": [
        "import ___ as ___\n",
        "# File CSV\n",
        "df_csv = pd.___(___)\n",
        "print(df_csv.___) # Menampilkan 3 data teratas\n",
        "# File TSV\n",
        "df_tsv = pd.___(___, sep=___)\n",
        "print(df_tsv.___) # Menampilkan 3 data teratas"
      ],
      "metadata": {
        "id": "0J-7dLUDlMqu"
      },
      "execution_count": null,
      "outputs": []
    },
    {
      "cell_type": "markdown",
      "source": [
        "## **2. Read Dataset - Excel**\n",
        "File Excel dengan ekstensi ***.xls** atau ***.xlsx** cukup banyak digunakan dalam menyimpan data. Pandas juga memiliki fitur untuk membaca file excel.\n",
        "\n",
        "**Notes :**\n",
        "\n",
        "**Dataset :** https://github.com/rahmadsa/dataset/blob/main/sample_excel.xlsx\n",
        "\n",
        "Fungsi ***.read_excel()*** digunakan untuk membaca file excel menjadi dataframe pandas.\n",
        "\n",
        "![Kode Read xls](https://github.com/rahmadsa/Data-Wrangling-With-Python/blob/main/properties/img/2024-03-2205-30-14.png?raw=true)\n",
        "\n",
        "\n",
        "\n",
        "\n",
        "**Tugas praktek:**\n",
        "\n",
        "Pada cell editor dibawah ini dapat dilihat kode-kode yang tidak lengkap. Lengkapilah kode tersebut dengan mengganti tanda _ _ _ di cell editor dengan yang sesuai seperti yang diberikan pada contoh di atas.\n",
        "\n",
        "Tampilkanlah sepuluh data teratas dari file excel yang telah dibaca!"
      ],
      "metadata": {
        "id": "BFGcCnqZ_T8t"
      }
    },
    {
      "cell_type": "code",
      "source": [
        "import pandas as pd\n",
        "# File xlsx dengan data di sheet \"test\"\n",
        "df_excel = pd.___(___, sheet_name=___)\n",
        "print(df_excel.___) # Menampilkan 4 data teratas"
      ],
      "metadata": {
        "id": "Ydo-xY1b_y_k"
      },
      "execution_count": null,
      "outputs": []
    },
    {
      "cell_type": "markdown",
      "source": [
        "## **3. Read Dataset - JSON**\n",
        "\n",
        "Method ***.read_json()*** digunakan untuk membaca URL API yang formatnya JSON dan mengubahnya menjadi dataframe pandas. Method ini dapat digunakan seperti yang dicontohkan berikut ini:\n",
        "\n",
        "Dataset JSON: https://github.com/rahmadsa/dataset/blob/main/covid2019-api.json\n",
        "\n",
        "Fungsi .read_json() digunakan untuk membaca json API menjadi dataframe pandas:\n",
        "\n",
        "![Kode](https://github.com/rahmadsa/Data-Wrangling-With-Python/blob/main/properties/img/2024-03-22-06-01-59.png?raw=true)\n",
        "\n",
        "**Tugas praktek:**\n",
        "\n",
        "Pada cell editor dibawah ini dapat dilihat kode-kode yang tidak lengkap. Tugas sekarang adalah mengganti tanda _ _ _ di cell editor dengan yang sesuai seperti yang diberikan pada contoh di atas.\n",
        "\n",
        "Tampilkanlah sepuluh data teratas dari file JSON yang telah dibaca!"
      ],
      "metadata": {
        "id": "dZr3MOTVA0dq"
      }
    },
    {
      "cell_type": "code",
      "source": [
        "import ___\n",
        "# File JSON\n",
        "url = ___\n",
        "df_json = pd.___(___)\n",
        "print(___) # Menampilkan 10 data teratas"
      ],
      "metadata": {
        "id": "kjmtKspKbtVT"
      },
      "execution_count": null,
      "outputs": []
    },
    {
      "cell_type": "markdown",
      "source": [
        "## **4. Read Dataset - RDBMS (SQLite)**\n",
        "\n",
        "Methode pembacaan RDBMS (SQLite) disajikan pada notebook berbeda"
      ],
      "metadata": {
        "id": "tFMD4fcic40Z"
      }
    },
    {
      "cell_type": "markdown",
      "source": [
        "## **5. Head Dan Tail**\n",
        "Seperti yang telah dipelajari sebelumnya bahwa ada method .head yang diterapkan pada suatu variabel bertipe pandas dataframe/series.\n",
        "\n",
        "Method .head ditujukan untuk membatasi tampilan jumlah baris teratas dari dataset. Sementara itu, method .tail ditujukan untuk membatasi jumlah baris terbawah dari dataset.\n",
        "\n",
        "Secara umum kedua method ini memiliki bentuk\n",
        "\n",
        "\n",
        "```python\n",
        "[nama_dataframe].head(n)\n",
        "```\n",
        "dan\n",
        "\n",
        "```python\n",
        "[nama_dataframe].tail(n)\n",
        "```\n",
        "\n",
        "dengan **n** merupakan jumlah baris yang akan ditampilkan, jika tidak disebutkan **n = 5** (sebagai nilai default dari n).\n",
        "\n",
        "![Kode Head & Tails](https://github.com/rahmadsa/Data-Wrangling-With-Python/blob/main/properties/img/2024-03-22-06-15-15.png?raw=true)\n",
        "\n",
        "**Tugas Praktek:**\n",
        "\n",
        "**Notes :**\n",
        "\n",
        "**Dataset csv** : https://github.com/rahmadsa/dataset/blob/main/sample_csv.csv\n",
        "\n",
        "Berdasarkan *file sample_csv.csv* dengan alamat dataset diatas cetaklah 3 data teratas dan 3 data terbawah.\n",
        "\n"
      ],
      "metadata": {
        "id": "rOaUCFyPb0Ur"
      }
    },
    {
      "cell_type": "code",
      "source": [
        "import ___\n",
        "# Baca file sample_csv.csv\n",
        "df = ___\n",
        "# Tampilkan 3 data teratas\n",
        "print(\"Tiga data teratas:\\n\", ___)\n",
        "# Tampilkan 3 data terbawah\n",
        "print(\"Tiga data terbawah:\\n\", ___)"
      ],
      "metadata": {
        "id": "YebZ0ORDb_Ch"
      },
      "execution_count": null,
      "outputs": []
    },
    {
      "cell_type": "markdown",
      "source": [
        "### **6. Write Dataset**\n",
        "Dalam bekerja sebagai data analisis setelah dilakukan data *cleaning dataset* yang sudah rapi tentunya disimpan terlebih dahulu ke dalam media penyimpanan.  \n",
        "\n",
        "Pandas menyediakan fitur demikian secara ringkas melalui penerapan method pada dataframe/series yang ditabelkan berikut ini:\n",
        "\n",
        "![Tabel Read Dataset](https://github.com/rahmadsa/Data-Wrangling-With-Python/blob/main/properties/img/2024-03-22-06-25-03.png?raw=true)"
      ],
      "metadata": {
        "id": "Ru6hAD0tU9tp"
      }
    },
    {
      "cell_type": "code",
      "source": [],
      "metadata": {
        "id": "YxUqoeoyc8Tw"
      },
      "execution_count": null,
      "outputs": []
    },
    {
      "cell_type": "markdown",
      "source": [
        "**Tugas Praktek 4 :**\n",
        "\n",
        "Carilah refrensi cara menggabungkan beberapa dataframe kedalam sebuah dataframe baru.\n",
        "\n",
        "Berikut disajikan dua buah dataset :\n",
        "\n",
        "1. **Dataset csv** : https://github.com/rahmadsa/dataset/blob/main/sample_csv.csv\n",
        "\n",
        "2. **Dataset tsv** : https://github.com/rahmadsa/dataset/blob/main/sample_tsv.tsv\n",
        "\n",
        "\n",
        "*Requirement* :\n",
        "\n",
        "1. Buatlah Dataset baru yang merupakan gabungan 2 (dua) dataset diatas dalam sebuah dataframe baru dengan nama  df_NIM_Anda contoh *df_19979922*.\n",
        "2. Tampilkan jumlah masing-masing data pada dataframe point no 1 (dataset 1 dan dataset 2)\n",
        "3. Tampilkan jumlah data pada dataset data baru dari requirement nomor 1\n",
        "4. Tampilkan 10 data teratas dan 10 data terbawah, dari data frame baru point no 1\n",
        "\n",
        "\n",
        "\n",
        "\n",
        "\n"
      ],
      "metadata": {
        "id": "s3LXrVdJhv8m"
      }
    },
    {
      "cell_type": "code",
      "source": [
        "#Jawaban\n"
      ],
      "metadata": {
        "id": "ip8hxCPojFVA"
      },
      "execution_count": null,
      "outputs": []
    }
  ]
}
