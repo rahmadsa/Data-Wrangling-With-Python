{
  "nbformat": 4,
  "nbformat_minor": 0,
  "metadata": {
    "colab": {
      "provenance": []
    },
    "kernelspec": {
      "name": "python3",
      "display_name": "Python 3"
    },
    "language_info": {
      "name": "python"
    }
  },
  "cells": [
    {
      "cell_type": "markdown",
      "source": [
        "# **Simple Exploratory Data Analysis (EDA) Dengan Statistik Deskriptif**\n",
        "\n",
        "## **Pengertian EDA**\n",
        "exploratory Data Analysis adalah suatu proses uji investigasi awal yang bertujuan untuk mengidentifikasi pola, menemukan anomali, menguji hipotesis dan memeriksa asumsi. Dengan melakukan EDA, pengguna akan sangat terbantu dalam mendeteksi kesalahan dari awal, dapat mengidentifikasi outlier, mengetahui hubungan antar data serta dapat menggali faktor-faktor penting dari data. Proses EDA ini sangat bermanfaat dalam proses analisis statistik.\n",
        "\n",
        "\n",
        "Dengan demikian tidak heran jika para praktisi data profesional sudah sangat sering menggunakan EDA agar hasil analisis menjadi lebih valid dan relevan dengan tujuan bisnis. Secara umum terdapat beberapa teknik exploratory data analysis yaitu dengan menggunakan statistik deskriptif, univariat analysis, dan multivariat analysis.\n",
        "\n",
        "## **Pentingnya EDA**\n",
        "\n",
        "Ketika seseorang melakukan proses analisis data, salah satu proses yang sebaiknya tidak terlewatkan adalah exploratory data analysis (EDA). EDA merupakan salah satu proses penting dalam analisis data dikarenakan dengan melakukan EDA pengguna akan dapat lebih menghemat waktu dalam proses analisis data, dapat mengetahui beberapa kesalahan dalam data seperti adanya missing value, outliers, duplikasi, encodings, data noisy, data tidak lengkap, dll.\n",
        "\n",
        "\n",
        "Salah satu hal yang dikhawatirkan jika tidak melalui proses EDA adalah terjadinya error yang berulang-ulang dalam proses analisis, atau hasil analisis menjadi kurang valid dan kurang relevan dengan tujuan bisnis dikarenakan data yang digunakan masih benar-benar belum siap. Selain itu dengan melakukan EDA, pengguna akan terbantu dalam melihat data sebelum membuat asumsi apapun sehingga dapat mengidentifikasi kesalahan-kesalahan dalam data.\n",
        "\n",
        "## **Teknik Exploratory Data Analysis**\n",
        "\n",
        "Pada proses pengolahan data, dalam melakukan exploratory data analysis dapat menggunakan beberapa teknik yang tersedia, yaitu:\n",
        "\n",
        "**Statistik deskriptif**\n",
        "\n",
        "    mendeskripsikan atau merangkum data sehingga menghasilkan informasi secara umum tanpa bertujuan untuk menarik kesimpulan. Statistik deskriptif dapat menampilkan beberapa informasi penting seperti nilai rata-rata, median, modus, standar deviasi, variansi dan kecekungan. Statistik deskriptif ini dapat ditampilkan dalam berbagai bentuk seperti tabel, diagram, grafik, dll.\n",
        "\n",
        "**Univariate analysis**\n",
        "\n",
        "    Menganalisis kolom secara terpisah dan melihat distribusi datanya. Univariate analysis secara umum terbagi dua, yaitu numerik dan kategorik. Analisis ini digunakan juga dengan tujuan untuk mengambil kesimpulan dengan menggunakan beberapa analisis inferensial yang mungkin digunakan.\n",
        "\n",
        "**Multivariate analysis**\n",
        "\n",
        "    Menggabungkan beberapa kolom dengan tujuan menemukan hubungan antara satu kolom dengan kolom lainnya.\n",
        "\n",
        "\n"
      ],
      "metadata": {
        "id": "lZW8Wr3Y638-"
      }
    },
    {
      "cell_type": "markdown",
      "source": [
        "## Contoh Kasus\n",
        "EDA untuk Data penjualan cabang supermarket XYZ dengan metode statistik Deskriptif. Berikut ini detailnya:\n",
        "\n",
        "1. Bagimana mentukan *Median price* yang dibayar customer dari masing-masing metode pembayaran.\n",
        "2. Mecari data metode pembayaran yang memiliki basket size (rataan median price) terbesar. Untuk mencari metode pembayaran apa yang sering digunakan pelanggan.\n",
        "3. Mencari data termahal dari *freight_value*, dengan Ubah freight_value menjadi shipping_cost dan cari shipping_cost termahal dari data penjualan tersebut menggunakan sort. Untuk mencari data shipping_cost termahal.\n",
        "4. Mencari *standar deviasi* untuk setiap product_category_name, berapa rata-rata weight produk tersebut dan standar deviasi mana yang terkecil dari weight tersebut, untuk mengukur penyebaran kelompok data produk.\n",
        "5. Membuat histogram quantity penjualan dari dataset tersebut untuk melihat persebaran quantity penjualan tersebut dengan bins = 5 dan figsize= (4,5). Untuk membandingkan secara visual antara data penjualan\n",
        "\n",
        "Dari studi kasus diatas dapat diterjemahkah dengan kode sebagai berikut:\n",
        "\n",
        "**Kode Program 6.1**\n",
        "\n",
        "\n",
        "```python\n",
        "import pandas as pd\n",
        "import matplotlib.pyplot as plt\n",
        "order_df = pd.read_csv(\"https://github.com/rahmadsa/dataset/blob/main/order.csv?raw=true\")\n",
        "\n",
        "# Median price yang dibayar customer dari masing-masing metode pembayaran.\n",
        "\n",
        "median_price = order_df[\"price\"].groupby(order_df[\"payment_type\"]).median()\n",
        "print(median_price)\n",
        "\n",
        "# Ubah freight_value menjadi shipping_cost dan cari shipping_cost\n",
        "# termahal dari data penjualan tersebut menggunakan sort.\n",
        "order_df.rename(columns={\"freight_value\": \"shipping_cost\"}, inplace=True)\n",
        "sort_value = order_df.sort_values(by=\"shipping_cost\", ascending=0)\n",
        "print(sort_value)\n",
        "\n",
        "# Untuk product_category_name, berapa  rata-rata weight produk tersebut\n",
        "# dan standar deviasi mana yang terkecil dari weight tersebut,\n",
        "mean_value = order_df[\"product_weight_gram\"].groupby(order_df[\"product_category_name\"]).mean()\n",
        "print(mean_value.sort_values())\n",
        "std_value = order_df[\"product_weight_gram\"].groupby(order_df[\"product_category_name\"]).std()\n",
        "print(std_value.sort_values())\n",
        "\n",
        "# Buat histogram quantity penjualan dari dataset tersebutuntuk melihat persebaran quantity\n",
        "# penjualan tersebut dengan bins = 5 dan figsize= (4,5)\n",
        "order_df[[\"quantity\"]].hist(figsize=(4, 5), bins=5)\n",
        "plt.show()\n",
        "```\n",
        "\n",
        "**Tugas Project 1a: **\n",
        "\n",
        "Amati dan pahami proses EDA dengan menjalankan script **Kode Program 6.1** pada cell editor dibawah ini.\n"
      ],
      "metadata": {
        "id": "ZVcC9Yix9qE3"
      }
    },
    {
      "cell_type": "code",
      "source": [
        "#Tugas Project 1a:"
      ],
      "metadata": {
        "id": "XzpTdU8kBTWX"
      },
      "execution_count": null,
      "outputs": []
    },
    {
      "cell_type": "markdown",
      "source": [
        "**Tugas Project 1b:**\n",
        "\n",
        "Rubahlah kode script **Kode Program 6.1** dengan ketentuan sebagai berikut....."
      ],
      "metadata": {
        "id": "S6cWvvGOFDYB"
      }
    },
    {
      "cell_type": "code",
      "source": [
        "#Implentasi Praktik 2"
      ],
      "metadata": {
        "id": "an2z2pS8FYky"
      },
      "execution_count": null,
      "outputs": []
    }
  ]
}
