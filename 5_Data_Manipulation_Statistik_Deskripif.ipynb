{
  "nbformat": 4,
  "nbformat_minor": 0,
  "metadata": {
    "colab": {
      "provenance": []
    },
    "kernelspec": {
      "name": "python3",
      "display_name": "Python 3"
    },
    "language_info": {
      "name": "python"
    }
  },
  "cells": [
    {
      "cell_type": "code",
      "execution_count": null,
      "metadata": {
        "id": "eBRULWR8QHKj"
      },
      "outputs": [],
      "source": []
    },
    {
      "cell_type": "markdown",
      "source": [
        "# Statistik Deskriptif dari suatu Data Frame\n",
        "\n",
        "**Statistik deskriptif**, atau yang dikenal sebagai summary dalam library Pandas dapat diperoleh dengan fungsi **.describe()**. Function ini dapat memberikan informasi mengenai nilai rataan, standar deviasi, serta *IQR (interquartile range)* dari suatu data.\n",
        "\n",
        "Secara default, function **.describe()** secara otomatis akan mengabaikan kolom category dan hanya memberikan summary statistik untuk kolom berjenis numerik.\n",
        "\n",
        "praktek berikut akan mengevaluasi performa cabang Toko A dengan quick summary dari segi kuantitas , harga , freight value , dan weight yang dibeli konsumen. Ada juga median dari total pembelian konsumen per transaksi yang harus kita sertakan di dalamnya untuk bisa dianalisis.\n",
        "\n",
        "Supaya kita bisa mendapatkan summary statistik atau statistik deskriptif dari kolom numerik dan karakter, kita perlu menambahkan argumen yaitu **include = “all”**.\n",
        "\n",
        "Untuk bisa memperoleh data quick summary tersebut, kita akan menggunakan fungsi**.describe()** terhadap order_df untuk melihat statistik deskriptif dari kolom *quantity, price, freight_value,* dan *product_weight_gram* yang masing-masing mewakili kuantitas, harga, freight value, serta weight dari produk yang dibeli konsumen.\n",
        "\n",
        "Kemudian, kita akan melihat nilai median dari kolom price dengan menggunakan fungsi .median(). Dataframe yang akan kita gunakan dalam praktek ini adalah data frame order_df.\n",
        "\n",
        "**Soal 1**\n",
        "\n",
        "Dengan menggunakan data souce file_sumber pada url berikut https://github.com/rahmadsa/dataset/blob/main/data_order_cabang_a.csv\n",
        "jalankan kode dibawah ini dan amati hasilnya :\n",
        "\n"
      ],
      "metadata": {
        "id": "57loTbIdSAYX"
      }
    },
    {
      "cell_type": "code",
      "source": [
        "import pandas as pd\n",
        "order_df = pd.read_csv(\"file_sumber\")\n",
        "\n",
        "# Quick summary  dari segi kuantitas, harga, freight value, dan weight\n",
        "\n",
        "print(order_df.describe())\n",
        "\n",
        "# Median dari total pembelian konsumen per transaksi\n",
        "print(order_df.loc[:, \"price\"].median())"
      ],
      "metadata": {
        "id": "tdhnYJ27UmFh"
      },
      "execution_count": null,
      "outputs": []
    },
    {
      "cell_type": "markdown",
      "source": [
        "**Soal 2**\n",
        "\n",
        "Update kode pada soal 1 \n",
        "\n",
        "Jawab:\n"
      ],
      "metadata": {
        "id": "cUlfFBPiXWdU"
      }
    },
    {
      "cell_type": "code",
      "source": [
        "#1. Jawab Soal 1"
      ],
      "metadata": {
        "id": "4Aigyt10XzKR"
      },
      "execution_count": null,
      "outputs": []
    },
    {
      "cell_type": "code",
      "source": [
        "#2. Jawab Soal 2"
      ],
      "metadata": {
        "id": "-2QRCGY8X9_j"
      },
      "execution_count": null,
      "outputs": []
    }
  ]
}
