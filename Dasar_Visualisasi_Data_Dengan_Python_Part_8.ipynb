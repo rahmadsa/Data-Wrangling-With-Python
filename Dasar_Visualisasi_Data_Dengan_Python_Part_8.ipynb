{
  "nbformat": 4,
  "nbformat_minor": 0,
  "metadata": {
    "colab": {
      "provenance": []
    },
    "kernelspec": {
      "name": "python3",
      "display_name": "Python 3"
    },
    "language_info": {
      "name": "python"
    }
  },
  "cells": [
    {
      "cell_type": "code",
      "execution_count": null,
      "metadata": {
        "id": "OCYxsb--ETBZ"
      },
      "outputs": [],
      "source": []
    },
    {
      "cell_type": "markdown",
      "source": [
        "# **Pengenalan Visualisasi Data Statistik Dengan Python**\n",
        "\n",
        "## **Tabel Frekuensi**\n",
        "\n",
        "Selain itu, dalam visualisasi data diperlukan peranan ilmu statistik. Hal ini dikarenakan adanya distribusi frekuensi yang menggunakan tabel maupun grafik yang bisa digunakan untuk menampilkan frekuensi dari suatu data. Adanya tabel frekuensi tersebut untuk membantu memahami relasi antar variabel.\n",
        "\n",
        "|Nilai|Frekuensi|\n",
        "|---|---|\n",
        "|50-59|\t5|\n",
        "|60-69|\t8|\n",
        "|70-79|\t7|\n",
        "|80-89|\t5|\n",
        "|Jumlah|\t25|\n",
        ""
      ],
      "metadata": {
        "id": "DLxOQUwVLbTA"
      }
    },
    {
      "cell_type": "code",
      "source": [
        "# import library pandas\n",
        "import pandas as pd\n",
        "\n",
        "# membaca file transaksi_retail_dqlab_v2.tsv\n",
        "df = pd.read_csv(\"https://github.com/rahmadsa/dataset/blob/main/transaksi_retail_v2.tsv\", delimiter=\"\\t\")\n"
      ],
      "metadata": {
        "id": "BiyGDL1NEbUM"
      },
      "execution_count": 10,
      "outputs": []
    },
    {
      "cell_type": "code",
      "source": [
        "# menampilkan 5 data pertama\n",
        "print(df.head(5))"
      ],
      "metadata": {
        "id": "Tr2zMxGzEs1P"
      },
      "execution_count": null,
      "outputs": []
    },
    {
      "cell_type": "code",
      "source": [
        "# menghitung total jumlah barang yang dibeli berdasarkan produk\n",
        "print(df[\"Jumlah\"].groupby(df[\"Nama Produk\"]).sum())"
      ],
      "metadata": {
        "id": "jniH4JVpEzeF"
      },
      "execution_count": null,
      "outputs": []
    },
    {
      "cell_type": "markdown",
      "source": [
        "## **Mengelompokkan Data**\n",
        "\n",
        "Data set dari sumber data adalah kumpulan data transaksi yang terdiri dari tanggal transaksi, kode produk, nama produk, jumlah, dan harga. Dilihat dari nama produknya, sepertinya ini adalah produk yang dijual oleh suatu toko kelontong. Kemudian kita melihat dimensi dari data tersebut menggunakan kode berikut\n",
        "\n",
        "\n",
        "```\n",
        "print(df.shape)\n",
        "```\n",
        "\n",
        "yang menghasilkan\n",
        "```\n",
        "(1392, 5)\n",
        "```"
      ],
      "metadata": {
        "id": "9eXHVsOpFI3F"
      }
    },
    {
      "cell_type": "code",
      "source": [
        "# menghitung total jumlah barang yang dibeli berdasarkan produk\n",
        "print(df[\"Jumlah\"].groupby(df[\"Nama Produk\"]).sum())"
      ],
      "metadata": {
        "id": "aRRCabHsE3JS"
      },
      "execution_count": null,
      "outputs": []
    },
    {
      "cell_type": "markdown",
      "source": [
        "Setelah kita melihat kumpulan data transaksi, kita akan menampilkan total produknya.\n",
        "\n",
        "Dalam kumpulan data transaksi, kita bisa mengelompokkan barang berdasarkan produknya. Setelah itu kita bisa menggunakan fungsi group_by. Dan bisa di lanjutkan dengan fungsi *sum()*, karena jika ada 1 produk yang sama bisa dimbeli bisa saja buyer membeli dari 1 barang\n",
        "\n"
      ],
      "metadata": {
        "id": "-61JjYfUHyYl"
      }
    },
    {
      "cell_type": "markdown",
      "source": [
        "## **Mengubah Kolom Tanggal**\n",
        "\n",
        "Setelah kita dapat melihat tabel frekuensi dari jumlah barang yang dijual untuk setiap produknya. Maka kita bisa  menyimpulkan produk yang paling laku adalah Mi Goreng Instant, dilihat dari jumlah Mi Goreng Instant yang telah terjual sebanyak 642.\n",
        "\n",
        "\n",
        "Setelah itu itu  kita bisa menghasilkan tabel frekuensi jumlah barang yang dijual per produk, tapi dikelompokkan per bulan penjualannya. Kita bisa menggunakan library datetime untuk mengubah tanggal ke bulan dan tahun saja. Setelah itu kita bisa menggunakan fungsi group_by Bulan dan Nama Produk serta fungsi *sum()*.\n",
        "\n"
      ],
      "metadata": {
        "id": "xsNNBT3jFVzf"
      }
    },
    {
      "cell_type": "code",
      "source": [
        "import datetime\n",
        "# membuat kolom baru bernama \"Bulan\" yang bertipe datetime dalam format \"%m-%Y\"\n",
        "df[\"Bulan\"] = df[\"Tanggal\"].apply(\n",
        "\tlambda x: datetime.datetime.strptime(x,\"%d-%m-%Y\").strftime(\"%m-%Y\"))\n",
        "\n",
        "# menghitung jumlah item penjualan per produk per bulan\n",
        "print(df.groupby([\"Bulan\",\"Nama Produk\"])[\"Jumlah\"].sum())"
      ],
      "metadata": {
        "id": "Coea9tIaFg9w"
      },
      "execution_count": null,
      "outputs": []
    },
    {
      "cell_type": "markdown",
      "source": [
        "setelah itu gunakan fungsi group_by Bulan dan Nama Produk serta fungsi sum()"
      ],
      "metadata": {
        "id": "afjuWXC9IODT"
      }
    },
    {
      "cell_type": "markdown",
      "source": [
        "## **Grafik Scatter Plot**\n",
        "\n",
        "Setelah mencoba menampilkan data dalam bentuk tabel frekuensi, kita bisa  menampilkan data jumlah barang yang dibeli berdasarkan harganya dalam bentuk *scatter plot*. Fungsi scatter disediakan dari matplotlib untuk menampilkan visualisasinya."
      ],
      "metadata": {
        "id": "e35knxwBF6kA"
      }
    },
    {
      "cell_type": "code",
      "source": [
        "import datetime\n",
        "# membuat kolom baru bernama \"Bulan\" yang bertipe datetime dalam format \"%m-%Y\"\n",
        "df[\"Bulan\"] = df[\"Tanggal\"].apply(\n",
        "\tlambda x: datetime.datetime.strptime(x, \"%d-%m-%Y\").strftime(\"%m-%Y\")\n",
        ")\n",
        "\n",
        "import matplotlib.pyplot as plt\n",
        "# plot scatter untuuk kolom \"Harga\" dan \"Jumlah\"\n",
        "plt.scatter(df[\"Harga\"], df[\"Jumlah\"], alpha = 0.2)\n",
        "plt.xlabel(\"Harga\", fontsize=11)\n",
        "plt.ylabel(\"Jumlah\", fontsize=11)\n",
        "plt.tight_layout()\n",
        "plt.show()"
      ],
      "metadata": {
        "id": "z9yJ--GvGArk"
      },
      "execution_count": null,
      "outputs": []
    },
    {
      "cell_type": "markdown",
      "source": [
        "Dari hasil visualisasi ini, aku dapat melihat jumlah produk dibeli berdasarkan harganya. Warna yang lebih gelap menunjukkan lebih banyaknya transaksi dalam jumlah dan harga tersebut. Aku dapat melihat transaksi pada produk dengan harga di atas 60.000 lebih sedikit dibandingkan barang dengan harga 10.000."
      ],
      "metadata": {
        "id": "5VQfK0nDGNFg"
      }
    },
    {
      "cell_type": "markdown",
      "source": [
        "## **Grafik Histogram**\n",
        "\n",
        "Penggunaan histogram untuk menampilkan distribusi jumlah barang yang dibeli per transaksi. Dengan menggunakan fungsi *hist()* yang disediakan oleh library *matplotlib*.\n",
        "\n",
        "\n",
        "\n"
      ],
      "metadata": {
        "id": "F5oV-8B4GTSH"
      }
    },
    {
      "cell_type": "code",
      "source": [
        "import matplotlib.pyplot as plt\n",
        "plt.figure(figsize=(8,6))\n",
        "plt.hist(df[\"Jumlah\"])\n",
        "plt.grid(color=\"gray\", linestyle=\"-\", linewidth=0.5)\n",
        "plt.xticks(rotation=45)\n",
        "plt.tight_layout()\n",
        "plt.show()"
      ],
      "metadata": {
        "id": "xq5OS9GmGiF6"
      },
      "execution_count": null,
      "outputs": []
    },
    {
      "cell_type": "markdown",
      "source": [
        "## **Line Chart**\n",
        "\n",
        " Penggunakan Line Chart dalam menganalisa penjualan Mi Goreng Instant sebagai produk yang paling laku, kamu bisa membuat Line Chart dengan data itu,"
      ],
      "metadata": {
        "id": "vlQV_8UjGwR0"
      }
    },
    {
      "cell_type": "code",
      "source": [
        "\n",
        "# mengambil data Mi Goreng Instant saja\n",
        "produk_mi = df[df[\"Nama Produk\"] == \"Mi Goreng Instant\"]\n",
        "\n",
        "# x adalah bulan transaksi\n",
        "x = [\"04-2020\", \"05-2020\", \"06-2020\"]\n",
        "\n",
        "# y jumlah item Mi Goreng Instant yang terjual\n",
        "y = produk_mi.groupby([\"Bulan\",\"Nama Produk\"])[\"Jumlah\"].sum()\n",
        "\n",
        "# membuat line chart menggunakan fungsi plot\n",
        "plt.plot(x,y)\n",
        "plt.title(\"Jumlah Penjualan Mi Goreng Instant Per Bulan\", pad=10, fontsize=12, color=\"blue\")\n",
        "plt.xlabel(\"Bulan\", fontsize=11)\n",
        "plt.ylabel(\"Jumlah\", fontsize=11)\n",
        "plt.grid(color=\"gray\", linestyle=\"-\", linewidth=0.5)\n",
        "plt.tight_layout()\n",
        "plt.show()"
      ],
      "metadata": {
        "id": "ZwLt9wsiG_2R"
      },
      "execution_count": null,
      "outputs": []
    },
    {
      "cell_type": "markdown",
      "source": [
        "### **Studi Kasus II.1 Membuat Tabel Frekuensi**\n",
        "\n",
        " Pengerjaaan kasus visualisasi data  dimulai dengan tabel frekuensi untuk menampilkan total penjualan per produk dan perbulannya dengan kode sebagai berikut.\n",
        "\n",
        "```python\n",
        "# Menghitung total harga untuk setiap row\n",
        "df[\"Total\"] = df[\"Harga\"] * df[\"Jumlah\"]\n",
        "\n",
        "# menghitung total penjualan per produk per bulan\n",
        "print(df.groupby([\"Bulan\", \"Nama Produk\"])[\"Total\"].sum())\n",
        "```\n",
        "\n"
      ],
      "metadata": {
        "id": "8Z8nqr9TItC4"
      }
    },
    {
      "cell_type": "code",
      "source": [
        "# Menghitung total harga untuk setiap row\n",
        "\n",
        "# menghitung total penjualan per produk per bulan\n"
      ],
      "metadata": {
        "id": "eRbOjqIuJdCB"
      },
      "execution_count": null,
      "outputs": []
    },
    {
      "cell_type": "markdown",
      "source": [
        "**Studi Kasus II.2 Membuat Line Chart**\n",
        "\n",
        "\n",
        "Manampilkan Grafik Line cart dari penjulan suatu produk\n",
        "\n",
        "\n",
        "\n",
        "\n",
        "```python\n",
        "# mengambil data Kopi Instant saja\n",
        "produk_kopi = df[df[\"Nama Produk\"] == \"Kopi Instant\"]\n",
        "\n",
        "# x adalah bulan transaksi\n",
        "x = [\"04-2020\", \"05-2020\", \"06-2020\"]\n",
        "\n",
        "# y jumlah item Kopi Instant yang terjual\n",
        "y = produk_kopi.groupby([\"Bulan\", \"Nama Produk\"])[\"Jumlah\"].sum()\n",
        "\n",
        "import matplotlib.pyplot as plt\n",
        "# membuat line chart menggunakan fungsi plot\n",
        "plt.plot(x,y)\n",
        "plt.title(\"Jumlah Penjualan Kopi Instant Per Bulan\", pad=10, fontsize=12, color=\"blue\")\n",
        "plt.xlabel(\"Bulan\", fontsize=11)\n",
        "plt.ylabel(\"Jumlah\",fontsize=11)\n",
        "plt.grid(color=\"gray\", linestyle=\"-\", linewidth=0.5)\n",
        "plt.tight_layout()\n",
        "plt.show()\n",
        "```\n",
        "\n"
      ],
      "metadata": {
        "id": "tZ_MxR16KroT"
      }
    },
    {
      "cell_type": "code",
      "source": [
        "# mengambil data Kopi Instant saja\n",
        "\n",
        "# x adalah bulan transaksi\n",
        "\n",
        "# y jumlah item Kopi Instant yang terjual\n",
        "\n",
        "# membuat line chart menggunakan fungsi plot"
      ],
      "metadata": {
        "id": "Vs6eDsBXLNCD"
      },
      "execution_count": null,
      "outputs": []
    }
  ]
}