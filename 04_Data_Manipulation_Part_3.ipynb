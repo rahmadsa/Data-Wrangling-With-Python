{
  "nbformat": 4,
  "nbformat_minor": 0,
  "metadata": {
    "colab": {
      "provenance": []
    },
    "kernelspec": {
      "name": "python3",
      "display_name": "Python 3"
    },
    "language_info": {
      "name": "python"
    }
  },
  "cells": [
    {
      "cell_type": "markdown",
      "source": [
        "\n",
        "#**Transformasi Data Dengan RDBMS**\n",
        "\n",
        "## **Execute SQL statement di platform Google Colab Cell**"
      ],
      "metadata": {
        "id": "zcHQm6qQ5GX7"
      }
    },
    {
      "cell_type": "code",
      "source": [
        "%load_ext sql"
      ],
      "metadata": {
        "id": "DDxFknDBVs5X"
      },
      "execution_count": null,
      "outputs": []
    },
    {
      "cell_type": "code",
      "execution_count": null,
      "metadata": {
        "id": "aW98pJszVSkH"
      },
      "outputs": [],
      "source": [
        "%%sql\n",
        "sqlite:///retaila.db"
      ]
    },
    {
      "cell_type": "code",
      "source": [
        "%%sql\n",
        "create table demo(id int, title varchar);\n",
        "insert into demo values (1,'pqr'),(2,'stu');\n",
        "select * from demo;"
      ],
      "metadata": {
        "id": "5Ojo9XzZYlvC"
      },
      "execution_count": null,
      "outputs": []
    },
    {
      "cell_type": "code",
      "source": [
        "#unzip\n",
        "#!unzip filename.zip\n",
        "#!mkdir /content/crowdflower\n",
        "#!mv \"/content/text_emotion.csv\" \"/content/crowdflower/\""
      ],
      "metadata": {
        "id": "Ab97sXwSxke-"
      },
      "execution_count": null,
      "outputs": []
    },
    {
      "cell_type": "code",
      "source": [
        "#dataset from original source: https://github.com/rahmadsa/dataset/blob/main/text_emotion.csv\n",
        "#download overwrite\n",
        "!wget -N https://github.com/rahmadsa/dataset/blob/main/text_emotion.csv -P /content/crowdflower/"
      ],
      "metadata": {
        "id": "Iu0OQv6GaZ7s"
      },
      "execution_count": null,
      "outputs": []
    },
    {
      "cell_type": "markdown",
      "source": [
        "## **Load remote CSV and kedalam SQLITE table**"
      ],
      "metadata": {
        "id": "3GiaZ22z2Krd"
      }
    },
    {
      "cell_type": "code",
      "source": [
        "# load the remote data into a Pandas DataFrame\n",
        "import pandas as pd\n",
        "df_cfemotion = pd.read_csv('https://github.com/rahmadsa/dataset/blob/main/text_emotion.csv?raw=true', on_bad_lines='skip', encoding='latin-1')\n",
        "df_cfemotion"
      ],
      "metadata": {
        "id": "Nu-t99JTj4PO"
      },
      "execution_count": null,
      "outputs": []
    },
    {
      "cell_type": "code",
      "source": [
        "#connect to sqlite db and send csv data to sqlite table\n",
        "import sqlite3 as sql\n",
        "conn = sql.connect('/content/cfemotion.db')\n",
        "df_cfemotion.to_sql('tb_emotion', conn)\n",
        "#optional\n",
        "#ds_cfemotion.to_sql('tb_emotion', conn, if_exists='append', index = False)"
      ],
      "metadata": {
        "id": "CaIbY21Gzn4Y"
      },
      "execution_count": null,
      "outputs": []
    },
    {
      "cell_type": "code",
      "source": [
        "#connect to sqlite db and read from sqlite table\n",
        "import sqlite3 as sql\n",
        "conn = sql.connect('/content/cfemotion.db')\n",
        "df_cfemotion = pd.read_sql('SELECT * FROM tb_emotion', conn)\n",
        "df_cfemotion"
      ],
      "metadata": {
        "id": "yOFCr4v90CvA"
      },
      "execution_count": null,
      "outputs": []
    },
    {
      "cell_type": "markdown",
      "source": [
        "## **Loading GoEmotion Dataset ke database Sqlite**"
      ],
      "metadata": {
        "id": "l_H5qccxBCw_"
      }
    },
    {
      "cell_type": "code",
      "source": [
        "!wget -P /content/ https://archive.org/download/goemotions/goemotions_1.csv\n",
        "!wget -P /content/ https://archive.org/download/goemotions/goemotions_2.csv\n",
        "!wget -P /content/ https://archive.org/download/goemotions/goemotions_3.csv"
      ],
      "metadata": {
        "id": "KgeLljIKBHy4"
      },
      "execution_count": null,
      "outputs": []
    },
    {
      "cell_type": "code",
      "source": [
        "# load the remote data into a Pandas DataFrame\n",
        "import pandas as pd\n",
        "df_goemotions1 = pd.read_csv('https://github.com/rahmadsa/dataset/blob/main/goemotions_1.csv', on_bad_lines='skip', encoding='latin-1')\n",
        "df_goemotions1[1:3]\n"
      ],
      "metadata": {
        "id": "2ErzLT55CKSs"
      },
      "execution_count": null,
      "outputs": []
    },
    {
      "cell_type": "code",
      "source": [
        "# load the remote data into a Pandas DataFrame\n",
        "import pandas as pd\n",
        "df_goemotions2 = pd.read_csv('https://github.com/rahmadsa/dataset/blob/main/goemotions_2.csv', on_bad_lines='skip', encoding='latin-1')\n",
        "df_goemotions2[1:3]"
      ],
      "metadata": {
        "id": "mxTqM_y3Cr_R"
      },
      "execution_count": null,
      "outputs": []
    },
    {
      "cell_type": "code",
      "source": [
        "# load the remote data into a Pandas DataFrame\n",
        "import pandas as pd\n",
        "df_goemotions3 = pd.read_csv('https://github.com/rahmadsa/dataset/blob/main/goemotions_3.csv', on_bad_lines='skip', encoding='latin-1')\n",
        "df_goemotions3[1:3]"
      ],
      "metadata": {
        "id": "_WmvauXlCxqm"
      },
      "execution_count": null,
      "outputs": []
    },
    {
      "cell_type": "code",
      "source": [
        "#connect to sqlite db and send csv data to sqlite table\n",
        "import sqlite3 as sql\n",
        "conn = sql.connect('/content/goemotions.db')\n",
        "\n",
        "df_goemotions1.to_sql('tb_goemotions', conn, if_exists='append', index = False)\n",
        "df_goemotions2.to_sql('tb_goemotions', conn, if_exists='append', index = False)\n",
        "df_goemotions3.to_sql('tb_goemotions', conn, if_exists='append', index = False)"
      ],
      "metadata": {
        "id": "NWLnxImiC4Z2"
      },
      "execution_count": null,
      "outputs": []
    },
    {
      "cell_type": "code",
      "source": [
        "#connect to sqlite db and read from sqlite table\n",
        "import sqlite3 as sql\n",
        "conn = sql.connect('/content/goemotions.db')\n",
        "df_goemotions = pd.read_sql('SELECT * FROM tb_goemotions', conn)\n",
        "df_goemotions"
      ],
      "metadata": {
        "id": "8LUwaYZnEEK2"
      },
      "execution_count": null,
      "outputs": []
    },
    {
      "cell_type": "markdown",
      "source": [
        "##**Import Database File Sqlite**\n",
        "\n",
        "Mengunduh suatu berkas dari internet adalah hal yang umum, baik untuk data backup, pengunduhan laporan, atau mengambil sumber data untuk analisis. Pengunduhan berkas dapat dilakukan secara manual satu per satu. Kita dapat menyederhanakan prosesnya dengan mengotomatiskannya menggunakan pemrograman Python.\n",
        "\n",
        "Sebagai contoh kita akan mengunduh file dengan URL sebagai berikut:\n",
        "\n",
        "https://github.com/rahmadsa/dataset/blob/main/Car_Database.db\n",
        "\n",
        "Berikut adalah contoh potongan script untuk mengunduh data dari suatu URL di internet. File download akan di simpan pada folder '/content/' pada colabs folder"
      ],
      "metadata": {
        "id": "M9KyWpfCmzW3"
      }
    },
    {
      "cell_type": "code",
      "source": [
        "import requests\n",
        "#URL file\n",
        "path = \"https://github.com/rahmadsa/dataset/raw/refs/heads/main/Car_Database.db\"\n",
        "\n",
        "req = requests.get(path, stream=True)\n",
        "url_content = req.content\n",
        "\n",
        "db_file_name = 'Car_Database.db'\n",
        "db_file = open(db_file_name, 'wb')\n",
        "\n",
        "db_file.write(url_content)\n",
        "db_file.close()"
      ],
      "metadata": {
        "id": "FM9C4_qOtjMm"
      },
      "execution_count": 15,
      "outputs": []
    },
    {
      "cell_type": "markdown",
      "source": [
        "##**Check Database File Sqlite**\n",
        "\n",
        "Untuk melihat daftar tabel dari suatu database SQLite, kita bisa menggunakan perintah ‘.tables’ jika berinteraksi melalui shell baris perintah sqlite3.\n",
        "\n",
        "Kita bisa menggunakan kueri pada tabel sqlite_master dengan “SELECT name FROM sqlite_master WHERE type=’table’;”. Di sinilah SQLite menyimpan metadata tentang semua tabel di database kita"
      ],
      "metadata": {
        "id": "KeUgO9Nywcou"
      }
    },
    {
      "cell_type": "code",
      "source": [
        "import sqlite3\n",
        "\n",
        "#folder file pada google drive\n",
        "folder = '/content/'\n",
        "namafileDB = 'Car_Database.db'\n",
        "conn = sqlite3.connect(folder+namafileDB)  # Replace 'your_database.db' with the actual database file name\n",
        "cursor = conn.cursor()\n",
        "\n",
        "#check table - table dalam suatu database\n",
        "cursor.execute(\"SELECT name FROM sqlite_master WHERE type='table'\")\n",
        "\n",
        "results = cursor.fetchall()\n",
        "for row in results:\n",
        "    print(row)\n",
        ""
      ],
      "metadata": {
        "id": "ddv9XalYCFcg"
      },
      "execution_count": null,
      "outputs": []
    },
    {
      "cell_type": "markdown",
      "source": [
        "Untuk melihat data salah satu table pada salah satu table menggunakan perintah sebagai berikut."
      ],
      "metadata": {
        "id": "tVu9q5A43bZW"
      }
    },
    {
      "cell_type": "code",
      "source": [
        "#check isi salah satu table dalam database\n",
        "print(\"Daftar isi Tabel Model : \")\n",
        "cursor.execute(\"SELECT * FROM Models LIMIT 10\")\n",
        "results = cursor.fetchall()\n",
        "for row in results:\n",
        "    print(row)\n",
        "\n",
        "conn.close()"
      ],
      "metadata": {
        "id": "sCc9OKBcuQNO"
      },
      "execution_count": null,
      "outputs": []
    },
    {
      "cell_type": "markdown",
      "source": [
        "**Tugas Praktek 5a :**\n",
        "\n",
        "................\n",
        "\n",
        "**Tugas Praktek 5b :**\n",
        "\n",
        "................\n"
      ],
      "metadata": {
        "id": "kMitJMirTsq7"
      }
    },
    {
      "cell_type": "markdown",
      "source": [
        "**Jawab :**\n",
        "\n",
        ".."
      ],
      "metadata": {
        "id": "cFcMrFadT-4n"
      }
    }
  ]
}
