{
  "nbformat": 4,
  "nbformat_minor": 0,
  "metadata": {
    "colab": {
      "provenance": []
    },
    "kernelspec": {
      "name": "python3",
      "display_name": "Python 3"
    },
    "language_info": {
      "name": "python"
    }
  },
  "cells": [
    {
      "cell_type": "code",
      "execution_count": null,
      "metadata": {
        "id": "EjUkqXewHybh"
      },
      "outputs": [],
      "source": []
    },
    {
      "cell_type": "markdown",
      "source": [
        "# **Quality Data Dengan Simple Data Profiling**\n",
        "\n",
        "Pada bagian sebelumnya sudah mempelajari mengenai exploratory data analysis, dimana Exploratory Data Analysis (EDA) adalah menggunakan pendekatan statistik yang bertujuan untuk menemukan dan meringkas sebuah dataset, mengetahui struktur dan hubungan antar variabel dalam dataset. EDA merupakan proses pre-analysis baik untuk descriptive analysis maupun predictive analysis.\n",
        "\n",
        "Dalam bab ini, aku akan fokus pada satu aspek EDA, yaitu: Data Profiling!\n",
        "\n",
        "Data profiling adalah kegiatan merangkum dataset menggunakan statistik deskriptif. Tujuan dari pembuatan data profiling adalah untuk memiliki pemahaman yang kuat tentang data sehingga dapat mulai menyusun framework analisis  dan memvisualisasikan data.\n",
        "\n",
        "\n",
        "![Kode Membaca file CSV](https://github.com/rahmadsa/Data-Wrangling-With-Python/blob/main/properties/img/data_profeling.png?raw=true)\n",
        "\n"
      ],
      "metadata": {
        "id": "cYQjbO6pIVIf"
      }
    },
    {
      "cell_type": "markdown",
      "source": [
        "## **Langkah - Langkah Profiling Data**\n",
        "\n",
        "1. Importing Data\n",
        "\n",
        "Sebagai langkah pertama yang harus dilakukan adalah inisialisasi Library dan mengimport dataset tersebut ke dalam Python menggunakan library Pandas dan diassign sebagai retail_raw.\n",
        "\n",
        "2. Inspeksi tipe data\n",
        "\n",
        "Dengan library Pandas, dapat menjalankan fungsi .dtypes untuk melihat data untuk setiap kolom termasuk tipe datanya.\n",
        "\n",
        "3. Penerapan metode Profiling\n",
        "\n",
        "Salah satu metode yang bisa digunakan untuk memahami struktur sata adalah Descriptive Statistics\n",
        "\n",
        "4. Penggunaan Profiling Libraries\n",
        "\n",
        "Melakukan statistik deskriptif dapat menjadi proses yang panjang. Penggunaan Pandas Profiling library memiliki function yang dapat membuat profiling data secara otomatis.\n",
        "\n",
        "Untuk dapat menggunakannya, cukup dengan memanggil library:\n",
        "\n",
        "\n",
        "```python\n",
        " import pandas_profiling\n",
        "```\n",
        "\n",
        "\n"
      ],
      "metadata": {
        "id": "KIgfnxaxK7-W"
      }
    },
    {
      "cell_type": "markdown",
      "source": [
        "Kamu bisa memprosesnya dengan cara berikut:\n",
        "1. Import dataset csv\n",
        "\n",
        "    Import dataset csv ke variable bernama uncleaned_raw\n",
        "\n",
        "2. Inspeksi Data Frame\n",
        "\n",
        "    Inspeksi dataframe uncleaned_raw\n",
        "\n",
        "3. Check kolom\n",
        "\n",
        "    Check kolom yang mengandung missing value. Jika ada, kolom apakah itu dan berapa persen missing value pada kolom tersebut?\n",
        "4. Mengisi missing value   \n",
        "    Mengisi missing value tersebut dengan mean dari kolom tersebut!\n",
        "\n",
        "\n",
        "**Kode Program 7.1**\n",
        "\n",
        "```python\n",
        "import pandas as pd\n",
        "import numpy as np\n",
        "import io\n",
        "\n",
        "# Baca dataset uncleaned_raw.csv\n",
        "uncleaned_raw = pd.read_csv('https://github.com/rahmadsa/dataset/blob/main/uncleaned_raw.csv')\n",
        "\n",
        "#inspeksi dataframe uncleaned_raw\n",
        "print('Lima data teratas:')\n",
        "print(uncleaned_raw.head())\n",
        "\n",
        "#Check kolom yang mengandung missing value\n",
        "print('\\nKolom dengan missing value:')\n",
        "print(uncleaned_raw.isnull().any())\n",
        "\n",
        "\n",
        "#Persentase missing value\n",
        "length_qty = len(uncleaned_raw['Quantity'])\n",
        "count_qty = uncleaned_raw['Quantity'].count()\n",
        "\n",
        "#mengurangi length dengan count\n",
        "number_of_missing_values_qty = length_qty - count_qty  \n",
        "\n",
        "#mengubah ke bentuk float\n",
        "#ratio_of_missing_values_product_id = number_of_missing_values_product_id / length_product_id\n",
        "float_of_missing_values_qty = float(number_of_missing_values_qty / length_qty)\n",
        "\n",
        "#mengubah ke dalam bentuk persen\n",
        "pct_of_missing_values_qty = '{0:.1f}%'.format(float_of_missing_values_qty*100)\n",
        "\n",
        "#print hasil percent dari missing value\n",
        "print('Persentase missing value kolom Quantity:', pct_of_missing_values_qty)\n",
        "\n",
        "#Mengisi missing value tersebut dengan mean dari kolom tersebut\n",
        "uncleaned_raw['Quantity'] = uncleaned_raw['Quantity'].fillna(uncleaned_raw.Quantity.mean())\n",
        "\n",
        "```\n",
        "\n",
        "4. Mengisi missing value   \n",
        "    Mengisi missing value tersebut dengan mean dari kolom tersebut! Mengetahui kolom yang memiliki outliers bisa menggunakan visualisasi dengan boxplot pada dataframe uncleaned_raw.\n",
        "\n",
        "**Kode Program 7.2**\n",
        "\n",
        "```python\n",
        "import pandas as pd\n",
        "import numpy as np\n",
        "import io\n",
        "import matplotlib.pyplot as plt\n",
        "\n",
        "plt.style.use('default')\n",
        "\n",
        "uncleaned_raw = pd.read_csv('https://github.com/rahmadsa/dataset/blob/main/uncleaned_raw.csv?raw=true')\n",
        "\n",
        "uncleaned_raw['Quantity'] = uncleaned_raw['Quantity'].fillna(uncleaned_raw['Quantity'].mean())\n",
        "\n",
        "#Mengetahui kolom yang memiliki outliers!\n",
        "uncleaned_raw.boxplot()\n",
        "#uncleaned_raw.___\n",
        "plt.show()\n",
        "```\n",
        "\n",
        "\n"
      ],
      "metadata": {
        "id": "woz1qOSYKJEy"
      }
    },
    {
      "cell_type": "markdown",
      "source": [
        "Case Study: Data Cleansing - Part 2\n",
        "\n",
        "Langkah selanjutnya bisa dilakukan dengan cara berikut:\n",
        "\n",
        "6. Removing outliers   \n",
        "\n",
        "    Melakukan proses removing outliers pada kolom UnitPrice.\n",
        "    \n",
        "7. Checking duplikasi\n",
        "\n",
        "    Checking duplikasi dan melakukan deduplikasi dataset tersebut!\n",
        "\n",
        "    **Kode Program 7.3**\n"
      ],
      "metadata": {
        "id": "7OeYYky9NrWw"
      }
    },
    {
      "cell_type": "code",
      "source": [
        "mport pandas as pd\n",
        "import numpy as np\n",
        "import io\n",
        "\n",
        "# Baca dataset uncleaned_raw.csv\n",
        "uncleaned_raw = pd.read_csv('https://uncleaned_raw.csv')\n",
        "\n",
        "#Check IQR\n",
        "Q1 = uncleaned_raw['UnitPrice'].quantile(0.25)\n",
        "Q3 = uncleaned_raw['UnitPrice'].quantile(0.75)\n",
        "IQR = Q3 - Q1\n",
        "\n",
        "#removing outliers\n",
        "uncleaned_raw = uncleaned_raw[~((uncleaned_raw[['UnitPrice']] < (Q1 - 1.5 * IQR)) | (uncleaned_raw[['UnitPrice']] > (Q3 + 1.5 * IQR)))]\n",
        "\n",
        "#check for duplication\n",
        "print(uncleaned_raw.duplicated(subset=None))\n",
        "\n",
        "#remove duplication\n",
        "uncleaned_raw = uncleaned_raw.drop_duplicates()"
      ],
      "metadata": {
        "id": "uUVkBNovOD8J"
      },
      "execution_count": null,
      "outputs": []
    },
    {
      "cell_type": "markdown",
      "source": [
        "**Tugas Praktik 1**\n",
        "\n",
        "Amati dan pahami proses EDA dengan menjalankan script **Kode Program 7.1** , **Kode Program 7.2**, **Kode Program 7.3** pada cell editor dibawah ini lakukan debuging jika perlu.\n"
      ],
      "metadata": {
        "id": "YsajjhZ2OnWb"
      }
    },
    {
      "cell_type": "code",
      "source": [
        "#Tugas Praktik 7.1"
      ],
      "metadata": {
        "id": "FlViDyIxOxRv"
      },
      "execution_count": null,
      "outputs": []
    }
  ]
}
