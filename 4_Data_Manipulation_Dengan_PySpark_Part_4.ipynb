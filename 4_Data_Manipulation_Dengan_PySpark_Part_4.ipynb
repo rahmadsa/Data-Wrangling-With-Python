{
  "nbformat": 4,
  "nbformat_minor": 0,
  "metadata": {
    "colab": {
      "provenance": [],
      "collapsed_sections": [
        "kkSXsFae8Cct"
      ]
    },
    "kernelspec": {
      "name": "python3",
      "display_name": "Python 3"
    },
    "language_info": {
      "name": "python"
    }
  },
  "cells": [
    {
      "cell_type": "markdown",
      "metadata": {
        "id": "32fjpkeS-nYP"
      },
      "source": [
        "#Getting Started with PySpark in Google Colab\n",
        "\n",
        "PySpark adalah interface Python untuk Apache Spark. Penggunaan utama PySpark adalah untuk bekerja dengan data dalam Bigdata dan untuk membuat pipeline data.\n",
        "\n",
        "Walalupun Apache Spark mendudukung Big Data, sebagai awal pembelajaran tidak perlu menggunakan data yang besar untuk mendapatkan manfaat dari PySpark. Kita bisa temukan bahwa SparkSQL adalah tools yang bagus untuk melakukan analisis data. Penggunaan library Panda menjadi lambat dengan data yang besar\n",
        "\n",
        "Sumber tentang Apache Spark http://spark.apache.org/docs/latest/api/python/"
      ]
    },
      ]
}
